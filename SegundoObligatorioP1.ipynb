{
 "cells": [
  {
   "cell_type": "markdown",
   "id": "8a2b375e-e344-4d98-8d97-9607e285a807",
   "metadata": {},
   "source": [
    "# Segundo Obligatorio: Buscaminas"
   ]
  },
  {
   "cell_type": "markdown",
   "id": "ef500bcf-e8d4-4064-8887-c5863e955210",
   "metadata": {},
   "source": [
    "![Buscaminas](https://buscaminas-pro.com/media/buscaminas.png)\n"
   ]
  },
  {
   "cell_type": "markdown",
   "id": "0b54df0e-a0a8-4bfb-be9a-c8149e904287",
   "metadata": {},
   "source": [
    "Ejercicio: Crear la Función crear_tablero para el Juego de Buscaminas\n",
    "Instrucciones del Ejercicio\n",
    "\n",
    "En este ejercicio, completarás la función crear_tablero para un juego de Buscaminas. Esta función creará el tablero del juego con minas distribuidas aleatoriamente. "
   ]
  },
  {
   "cell_type": "markdown",
   "id": "0478bbfc-7ed4-46f7-b00e-856a6a87086b",
   "metadata": {},
   "source": [
    "# Pasos Detallados para Crear la Función crear_tablero"
   ]
  },
  {
   "cell_type": "markdown",
   "id": "62241c39-c757-4883-acfd-2c3329d06674",
   "metadata": {},
   "source": [
    "Paso 1: Crear un tablero vacío\n",
    "\n",
    "Crea una matriz bidimensional usando listas de listas. Cada lista interna representa una fila del tablero, y cada elemento de estas listas es una celda. \n",
    "\n",
    "Paso 2: Generar todas las posiciones posibles\n",
    "\n",
    "Crea una lista de todas las posiciones posibles en el tablero, tratándolo como una lista unidimensional. Esto te permitirá seleccionar posiciones aleatorias para las minas.\n",
    "\n",
    "Paso 3: Seleccionar aleatoriamente las posiciones para las minas\n",
    "\n",
    "Busca un funcion de la libreria \"random\" para seleccionar num_minas posiciones únicas de la lista de posiciones.\n",
    "\n",
    "Paso 4: Colocar las minas en el tablero\n",
    "\n",
    "Recorre cada posición de mina seleccionada. Convierte la posición unidimensional a coordenadas bidimensionales (fila y columna) y coloca una mina (-1) en la posición correspondiente del tablero.\n",
    "\n",
    "Paso 6: Devolver el tablero\n",
    "\n",
    "Devuelve el tablero completo con las minas colocadas.\n"
   ]
  },
  {
   "cell_type": "markdown",
   "id": "80abeef6-cee5-4856-94d1-555a6b0bbb3b",
   "metadata": {},
   "source": [
    "# Importante: Matemática Detrás de las Conversiones"
   ]
  },
  {
   "cell_type": "markdown",
   "id": "35055009-e61c-45f8-be1a-dfa7d428be93",
   "metadata": {},
   "source": [
    "Cuando trabajamos con una lista unidimensional y necesitamos convertir sus índices a coordenadas bidimensionales (como en una matriz), utilizamos las operaciones de división entera y módulo. Esto es común en muchas aplicaciones de programación, especialmente en juegos y procesamiento de datos.\n",
    "Representación Unidimensional\n",
    "\n",
    "Una lista unidimensional es simplemente una secuencia lineal de elementos. "
   ]
  },
  {
   "cell_type": "code",
   "execution_count": null,
   "id": "7485e44a-5680-457d-b37f-8c59f7390e51",
   "metadata": {},
   "outputs": [],
   "source": [
    "[0, 1, 2, 3, 4, 5, 6, 7, 8, 9, 10, 11]"
   ]
  },
  {
   "cell_type": "markdown",
   "id": "2bffe11f-9660-4377-9a49-178ab588106c",
   "metadata": {},
   "source": [
    "La misma lista de 12 elementos puede ser organizada en una matriz bidimensional. Por ejemplo, si la organizamos en 3 filas y 4 columnas, se vería así:"
   ]
  },
  {
   "cell_type": "code",
   "execution_count": null,
   "id": "7cff8e17-7a15-4073-ad37-ffef3124a1cd",
   "metadata": {},
   "outputs": [],
   "source": [
    "[ [ 0,  1,  2,  3],\n",
    " [ 4,  5,  6,  7],\n",
    " [ 8,  9, 10, 11]\n",
    "]"
   ]
  },
  {
   "cell_type": "markdown",
   "id": "0be2937f-046c-4b1e-9acd-177ac134dbb7",
   "metadata": {},
   "source": [
    "Dado un índice i en una lista unidimensional, podemos encontrar las coordenadas de la matriz bidimensional (fila r y columna c) usando las siguientes fórmulas:"
   ]
  },
  {
   "cell_type": "markdown",
   "id": "7921b9b2-6dc0-466b-b517-f41b1a0522c9",
   "metadata": {},
   "source": [
    "Formula Filas: "
   ]
  },
  {
   "cell_type": "markdown",
   "id": "2db0ef7a-0382-40d5-90a3-21840e7f3098",
   "metadata": {},
   "source": [
    "$$\n",
    "r = \\left\\lfloor \\frac{i}{n} \\right\\rfloor\n",
    "$$\n"
   ]
  },
  {
   "cell_type": "markdown",
   "id": "5a1b8c68-db5b-423b-97ad-5abcb40273a1",
   "metadata": {},
   "source": [
    "Formula Columnas:"
   ]
  },
  {
   "cell_type": "markdown",
   "id": "b3bb7ad7-9365-4227-a479-84dd552e098a",
   "metadata": {},
   "source": [
    "$$\n",
    "c = i \\mod n\n",
    "$$\n"
   ]
  },
  {
   "cell_type": "markdown",
   "id": "572e4739-8e21-4132-8de4-66d0382ece53",
   "metadata": {},
   "source": [
    "# Codigo"
   ]
  },
  {
   "cell_type": "markdown",
   "id": "702ee25f-1692-4f70-9f8f-e6137a9aeb9f",
   "metadata": {},
   "source": [
    "Antes de correr el codigo, deberan descargar la libreria Pygame. En la pagina, deberan seguir las instrucciones segun su sistema operativo y sitema de administración de paquetes\n",
    "\n",
    "PyGame: https://www.pygame.org/news"
   ]
  },
  {
   "cell_type": "code",
   "execution_count": null,
   "id": "b674a791-917f-420e-888f-85feeb3fa5f6",
   "metadata": {},
   "outputs": [],
   "source": [
    "import pygame\n",
    "import random\n",
    "\n",
    "# Inicializa Pygame\n",
    "pygame.init()\n",
    "\n",
    "# Configuración de la pantalla\n",
    "tamano_pantalla = 400\n",
    "filas, columnas = 10, 10\n",
    "tamano_celda = tamano_pantalla // filas\n",
    "pantalla = pygame.display.set_mode((tamano_pantalla, tamano_pantalla))\n",
    "pygame.display.set_caption(\"Buscaminas\")\n",
    "\n",
    "# Colores\n",
    "BLANCO = (255, 255, 255)\n",
    "NEGRO = (0, 0, 0)\n",
    "ROJO = (255, 0, 0)\n",
    "\n",
    "# Si quieren, pueden cargar una imagen de fondo a elección. \n",
    "#imagen_fondo = pygame.image.load('/Users/santiago/Downloads/90.jpeg')\n",
    "\n",
    "# Genera el tablero con minas\n",
    "def crear_tablero(filas, columnas, num_minas):\n",
    "\n",
    "    \n",
    "    return tablero\n",
    "\n",
    "# Calcula los números alrededor de las minas\n",
    "def calcular_numeros(tablero):\n",
    "    for fila in range(filas):\n",
    "        for columna in range(columnas):\n",
    "            if tablero[fila][columna] == -1:\n",
    "                continue\n",
    "            cuenta_minas = 0\n",
    "            for f in range(max(0, fila - 1), min(filas, fila + 2)):\n",
    "                for c in range(max(0, columna - 1), min(columnas, columna + 2)):\n",
    "                    if tablero[f][c] == -1:\n",
    "                        cuenta_minas += 1\n",
    "            tablero[fila][columna] = cuenta_minas\n",
    "\n",
    "# Dibuja el tablero\n",
    "def dibujar_tablero(tablero, revelado):\n",
    "    for fila in range(filas):\n",
    "        for columna in range(columnas):\n",
    "            rectangulo = pygame.Rect(columna * tamano_celda, fila * tamano_celda, tamano_celda, tamano_celda)\n",
    "            if revelado[fila][columna]:\n",
    "                pygame.draw.rect(pantalla, BLANCO, rectangulo)\n",
    "                if tablero[fila][columna] == -1:\n",
    "                    pygame.draw.circle(pantalla, ROJO, rectangulo.center, tamano_celda // 4)\n",
    "                elif tablero[fila][columna] > 0:\n",
    "                    fuente = pygame.font.Font(None, 36)\n",
    "                    texto = fuente.render(str(tablero[fila][columna]), True, NEGRO)\n",
    "                    pantalla.blit(texto, texto.get_rect(center=rectangulo.center))\n",
    "            else:\n",
    "                pygame.draw.rect(pantalla, BLANCO, rectangulo, 1)\n",
    "\n",
    "# Mostrar mensaje en la pantalla\n",
    "def mostrar_mensaje(mensaje):\n",
    "    fuente = pygame.font.Font(None, 72)\n",
    "    texto = fuente.render(mensaje, True, NEGRO)\n",
    "    rectangulo = texto.get_rect(center=(tamano_pantalla // 2, tamano_pantalla // 2))\n",
    "    pantalla.blit(texto, rectangulo)\n",
    "    pygame.display.flip()\n",
    "    pygame.time.wait(2000)  # Esperar 2 segundos antes de cerrar\n",
    "\n",
    "# Configuración inicial\n",
    "num_minas = 10\n",
    "tablero = crear_tablero(filas, columnas, num_minas)\n",
    "calcular_numeros(tablero)\n",
    "revelado = [[False for _ in range(columnas)] for _ in range(filas)]\n",
    "\n",
    "# Bucle principal del juego\n",
    "jugando = True\n",
    "juego_terminado = False\n",
    "while jugando:\n",
    "    for evento in pygame.event.get():\n",
    "        if evento.type == pygame.QUIT:\n",
    "            jugando = False\n",
    "        elif evento.type == pygame.MOUSEBUTTONDOWN and not juego_terminado:\n",
    "            x, y = pygame.mouse.get_pos()\n",
    "            columna, fila = x // tamano_celda, y // tamano_celda\n",
    "            if tablero[fila][columna] == -1:\n",
    "                juego_terminado = True\n",
    "                mostrar_mensaje(\"¡Perdiste!\")\n",
    "            else:\n",
    "                revelado[fila][columna] = True\n",
    "\n",
    "    # Dibujar la imagen de fondo\n",
    "    #Descomentar si van a colocar una imagen de fondo\n",
    "    #pantalla.blit(imagen_fondo, (0, 0))\n",
    "\n",
    "    # Dibujar el tablero\n",
    "    dibujar_tablero(tablero, revelado)\n",
    "    pygame.display.flip()\n",
    "\n",
    "pygame.quit()\n"
   ]
  },
  {
   "cell_type": "code",
   "execution_count": null,
   "id": "8f20b123-5a4b-42b7-9b60-6432f4c67784",
   "metadata": {},
   "outputs": [],
   "source": []
  }
 ],
 "metadata": {
  "kernelspec": {
   "display_name": "Python (myenv)",
   "language": "python",
   "name": "myenv"
  },
  "language_info": {
   "codemirror_mode": {
    "name": "ipython",
    "version": 3
   },
   "file_extension": ".py",
   "mimetype": "text/x-python",
   "name": "python",
   "nbconvert_exporter": "python",
   "pygments_lexer": "ipython3",
   "version": "3.12.3"
  }
 },
 "nbformat": 4,
 "nbformat_minor": 5
}
