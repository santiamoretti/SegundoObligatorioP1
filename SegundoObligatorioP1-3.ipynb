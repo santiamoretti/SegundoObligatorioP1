{
 "cells": [
  {
   "cell_type": "markdown",
   "id": "572e4739-8e21-4132-8de4-66d0382ece53",
   "metadata": {},
   "source": [
    "# Codigo"
   ]
  },
  {
   "cell_type": "markdown",
   "id": "702ee25f-1692-4f70-9f8f-e6137a9aeb9f",
   "metadata": {},
   "source": [
    "Antes de correr el codigo, deberan descargar la libreria Pygame. En la pagina, deberan seguir las instrucciones segun su sistema operativo y sitema de administración de paquetes\n",
    "\n",
    "PyGame: https://www.pygame.org/news"
   ]
  },
  {
   "cell_type": "code",
   "execution_count": null,
   "id": "8f20b123-5a4b-42b7-9b60-6432f4c67784",
   "metadata": {},
   "outputs": [],
   "source": [
    "import pygame\n",
    "import random\n",
    "\n",
    "\n",
    "pygame.init()\n",
    "\n",
    "num_minas = 10\n",
    "tamano_pantalla = 400\n",
    "filas, columnas = 10, 10\n",
    "tamano_celda = tamano_pantalla // filas\n",
    "pantalla = pygame.display.set_mode((tamano_pantalla, tamano_pantalla))\n",
    "pygame.display.set_caption(\"Buscaminas\")\n",
    "\n",
    "# Colores\n",
    "BLANCO = (255, 255, 255)\n",
    "NEGRO = (0, 0, 0)\n",
    "ROJO = (255, 0, 0)\n",
    "VERDE = (0, 255, 0)\n",
    "\n",
    "#Selecciona una imagen de tu computadora para el fondo\n",
    "imagen_fondo = pygame.image.load('...')\n",
    "\n",
    "\n",
    "def dibujar_tablero(tablero):\n",
    "    for fila in range(len(tablero)):\n",
    "        for columna in range(len(tablero[0])):\n",
    "            rectangulo = pygame.Rect(columna * tamano_celda, fila * tamano_celda, tamano_celda, tamano_celda)\n",
    "            \n",
    "            \n",
    "\n",
    "\n",
    "def mostrar_mensaje(mensaje):\n",
    "    fuente = pygame.font.Font(None, 72)\n",
    "    texto = fuente.render(mensaje, True, NEGRO)\n",
    "    rectangulo = texto.get_rect(center=(tamano_pantalla // 2, tamano_pantalla // 2))\n",
    "    pantalla.blit(texto, rectangulo)\n",
    "    pygame.display.flip()\n",
    "    pygame.time.wait(2000)  \n",
    "\n",
    "\n",
    "\n",
    "jugando = True\n",
    "juego_terminado = False\n",
    "while jugando:\n",
    "    for evento in pygame.event.get():\n",
    "        if evento.type == pygame.QUIT:\n",
    "            jugando = False\n",
    "        elif evento.type == pygame.MOUSEBUTTONDOWN and not juego_terminado:\n",
    "            x, y = pygame.mouse.get_pos()\n",
    "            columna, fila = x // tamano_celda, y // tamano_celda\n",
    "            \n",
    "           \n",
    "        \n",
    "   \n",
    "    pantalla.blit(imagen_fondo, (0, 0))\n",
    "\n",
    "    \n",
    "    dibujar_tablero(tablero)\n",
    "    pygame.display.flip()\n",
    "\n",
    "pygame.quit()\n"
   ]
  }
 ],
 "metadata": {
  "kernelspec": {
   "display_name": "Python (myenv)",
   "language": "python",
   "name": "myenv"
  },
  "language_info": {
   "codemirror_mode": {
    "name": "ipython",
    "version": 3
   },
   "file_extension": ".py",
   "mimetype": "text/x-python",
   "name": "python",
   "nbconvert_exporter": "python",
   "pygments_lexer": "ipython3",
   "version": "3.12.3"
  }
 },
 "nbformat": 4,
 "nbformat_minor": 5
}
